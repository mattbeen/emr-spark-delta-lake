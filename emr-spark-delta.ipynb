{
 "cells": [
  {
   "cell_type": "code",
   "execution_count": 1,
   "id": "cda7e97d-9beb-4ff0-a27d-950bc85af982",
   "metadata": {
    "execution": {
     "iopub.execute_input": "2023-10-12T07:59:11.734700Z",
     "iopub.status.busy": "2023-10-12T07:59:11.734465Z",
     "iopub.status.idle": "2023-10-12T07:59:11.765933Z",
     "shell.execute_reply": "2023-10-12T07:59:11.765401Z",
     "shell.execute_reply.started": "2023-10-12T07:59:11.734675Z"
    },
    "tags": []
   },
   "outputs": [
    {
     "data": {
      "text/html": [
       "Current session configs: <tt>{'conf': {'spark.sql.extensions': 'io.delta.sql.DeltaSparkSessionExtension', 'spark.sql.catalog.spark_catalog': 'org.apache.spark.sql.delta.catalog.DeltaCatalog'}, 'proxyUser': 'user_mattbeen', 'kind': 'pyspark'}</tt><br>"
      ],
      "text/plain": [
       "<IPython.core.display.HTML object>"
      ]
     },
     "metadata": {},
     "output_type": "display_data"
    },
    {
     "data": {
      "text/html": [
       "<table>\n<tbody><tr><th>ID</th><th>YARN Application ID</th><th>Kind</th><th>State</th><th>Spark UI</th><th>Driver log</th><th>User</th><th>Current session?</th></tr><tr><td>1</td><td>application_1697095095571_0002</td><td>pyspark</td><td>idle</td><td><a target=\"_blank\" href=\"http://ip-172-31-85-211.ec2.internal:20888/proxy/application_1697095095571_0002/\" class=\"emr-proxy-link j-LF8K4N9LOSN1 application_1697095095571_0002\" emr-resource=\"j-LF8K4N9LOSN1\n\" application-id=\"application_1697095095571_0002\">Link</a></td><td><a target=\"_blank\" href=\"http://ip-172-31-90-82.ec2.internal:8042/node/containerlogs/container_1697095095571_0002_01_000002/livy\">Link</a></td><td>None</td><td></td></tr></tbody></table>"
      ],
      "text/plain": [
       "<IPython.core.display.HTML object>"
      ]
     },
     "metadata": {},
     "output_type": "display_data"
    }
   ],
   "source": [
    "%%configure -f\n",
    "{\n",
    "  \"conf\": {\n",
    "    \"spark.sql.extensions\": \"io.delta.sql.DeltaSparkSessionExtension\",\n",
    "    \"spark.sql.catalog.spark_catalog\": \"org.apache.spark.sql.delta.catalog.DeltaCatalog\"\n",
    "  }\n",
    "}"
   ]
  },
  {
   "cell_type": "code",
   "execution_count": 2,
   "id": "72d6c70c-2f08-443b-95ff-27f1ca06c6f1",
   "metadata": {
    "execution": {
     "iopub.execute_input": "2023-10-12T07:59:11.768949Z",
     "iopub.status.busy": "2023-10-12T07:59:11.768787Z",
     "iopub.status.idle": "2023-10-12T07:59:46.129851Z",
     "shell.execute_reply": "2023-10-12T07:59:46.129156Z",
     "shell.execute_reply.started": "2023-10-12T07:59:11.768928Z"
    },
    "tags": []
   },
   "outputs": [
    {
     "data": {
      "application/vnd.jupyter.widget-view+json": {
       "model_id": "2b4713d7c89b48c68455cae8a8d41c8d",
       "version_major": 2,
       "version_minor": 0
      },
      "text/plain": [
       "VBox()"
      ]
     },
     "metadata": {},
     "output_type": "display_data"
    },
    {
     "name": "stdout",
     "output_type": "stream",
     "text": [
      "Starting Spark application\n"
     ]
    },
    {
     "data": {
      "text/html": [
       "<table>\n<tbody><tr><th>ID</th><th>YARN Application ID</th><th>Kind</th><th>State</th><th>Spark UI</th><th>Driver log</th><th>User</th><th>Current session?</th></tr><tr><td>4</td><td>application_1697095095571_0005</td><td>pyspark</td><td>idle</td><td><a target=\"_blank\" href=\"http://ip-172-31-85-211.ec2.internal:20888/proxy/application_1697095095571_0005/\" class=\"emr-proxy-link j-LF8K4N9LOSN1 application_1697095095571_0005\" emr-resource=\"j-LF8K4N9LOSN1\n\" application-id=\"application_1697095095571_0005\">Link</a></td><td><a target=\"_blank\" href=\"http://ip-172-31-87-246.ec2.internal:8042/node/containerlogs/container_1697095095571_0005_01_000001/livy\">Link</a></td><td>None</td><td>✔</td></tr></tbody></table>"
      ],
      "text/plain": [
       "<IPython.core.display.HTML object>"
      ]
     },
     "metadata": {},
     "output_type": "display_data"
    },
    {
     "data": {
      "application/vnd.jupyter.widget-view+json": {
       "model_id": "",
       "version_major": 2,
       "version_minor": 0
      },
      "text/plain": [
       "FloatProgress(value=0.0, bar_style='info', description='Progress:', layout=Layout(height='25px', width='50%'),…"
      ]
     },
     "metadata": {},
     "output_type": "display_data"
    },
    {
     "name": "stdout",
     "output_type": "stream",
     "text": [
      "SparkSession available as 'spark'.\n"
     ]
    },
    {
     "data": {
      "application/vnd.jupyter.widget-view+json": {
       "model_id": "",
       "version_major": 2,
       "version_minor": 0
      },
      "text/plain": [
       "FloatProgress(value=0.0, bar_style='info', description='Progress:', layout=Layout(height='25px', width='50%'),…"
      ]
     },
     "metadata": {},
     "output_type": "display_data"
    },
    {
     "name": "stderr",
     "output_type": "stream",
     "text": [
      "An error was encountered:\n",
      "No module named 'pyspark.errors'\n",
      "Traceback (most recent call last):\n",
      "  File \"/usr/local/lib/python3.7/site-packages/delta/__init__.py\", line 17, in <module>\n",
      "    from delta.tables import DeltaTable\n",
      "  File \"/usr/local/lib/python3.7/site-packages/delta/tables.py\", line 21, in <module>\n",
      "    import delta.exceptions  # noqa: F401; pylint: disable=unused-variable\n",
      "  File \"/usr/local/lib/python3.7/site-packages/delta/exceptions.py\", line 20, in <module>\n",
      "    from pyspark.errors.exceptions import captured\n",
      "ModuleNotFoundError: No module named 'pyspark.errors'\n",
      "\n"
     ]
    }
   ],
   "source": [
    "from delta.tables import *\n",
    "from pyspark.sql.functions import *"
   ]
  },
  {
   "cell_type": "code",
   "execution_count": 3,
   "id": "e7880444-35bb-4465-b253-2f8884b5aaa5",
   "metadata": {
    "execution": {
     "iopub.execute_input": "2023-10-12T07:59:46.131355Z",
     "iopub.status.busy": "2023-10-12T07:59:46.131078Z",
     "iopub.status.idle": "2023-10-12T07:59:46.186091Z",
     "shell.execute_reply": "2023-10-12T07:59:46.185567Z",
     "shell.execute_reply.started": "2023-10-12T07:59:46.131292Z"
    },
    "tags": []
   },
   "outputs": [
    {
     "data": {
      "application/vnd.jupyter.widget-view+json": {
       "model_id": "1531366cba3a4d99bfbdac739ee3ad41",
       "version_major": 2,
       "version_minor": 0
      },
      "text/plain": [
       "VBox()"
      ]
     },
     "metadata": {},
     "output_type": "display_data"
    },
    {
     "data": {
      "application/vnd.jupyter.widget-view+json": {
       "model_id": "",
       "version_major": 2,
       "version_minor": 0
      },
      "text/plain": [
       "FloatProgress(value=0.0, bar_style='info', description='Progress:', layout=Layout(height='25px', width='50%'),…"
      ]
     },
     "metadata": {},
     "output_type": "display_data"
    }
   ],
   "source": [
    "deltaPath = \"s3://anime-recommend-data/parquet/\"\n",
    "deltaTablePath = \"s3://anime-recommend-data/delta-table/\""
   ]
  },
  {
   "cell_type": "code",
   "execution_count": 4,
   "id": "84e78910-8864-4667-aeec-b77c79258f7f",
   "metadata": {
    "execution": {
     "iopub.execute_input": "2023-10-12T07:59:46.187389Z",
     "iopub.status.busy": "2023-10-12T07:59:46.187197Z",
     "iopub.status.idle": "2023-10-12T07:59:57.514042Z",
     "shell.execute_reply": "2023-10-12T07:59:57.513430Z",
     "shell.execute_reply.started": "2023-10-12T07:59:46.187366Z"
    },
    "tags": []
   },
   "outputs": [
    {
     "data": {
      "application/vnd.jupyter.widget-view+json": {
       "model_id": "0ce8402ea93e4fef80dba3ff99c123df",
       "version_major": 2,
       "version_minor": 0
      },
      "text/plain": [
       "VBox()"
      ]
     },
     "metadata": {},
     "output_type": "display_data"
    },
    {
     "data": {
      "application/vnd.jupyter.widget-view+json": {
       "model_id": "",
       "version_major": 2,
       "version_minor": 0
      },
      "text/plain": [
       "FloatProgress(value=0.0, bar_style='info', description='Progress:', layout=Layout(height='25px', width='50%'),…"
      ]
     },
     "metadata": {},
     "output_type": "display_data"
    }
   ],
   "source": [
    "anime_df = spark.read.csv(\"s3://anime-recommend-data/animelist.csv\",header=True)"
   ]
  },
  {
   "cell_type": "code",
   "execution_count": 5,
   "id": "f16dfdc9-7679-4381-8b6c-33b890407b95",
   "metadata": {
    "execution": {
     "iopub.execute_input": "2023-10-12T07:59:57.515295Z",
     "iopub.status.busy": "2023-10-12T07:59:57.515120Z",
     "iopub.status.idle": "2023-10-12T07:59:58.289232Z",
     "shell.execute_reply": "2023-10-12T07:59:58.288637Z",
     "shell.execute_reply.started": "2023-10-12T07:59:57.515274Z"
    },
    "tags": []
   },
   "outputs": [
    {
     "data": {
      "application/vnd.jupyter.widget-view+json": {
       "model_id": "b827df61244748119c6e8f22c1268708",
       "version_major": 2,
       "version_minor": 0
      },
      "text/plain": [
       "VBox()"
      ]
     },
     "metadata": {},
     "output_type": "display_data"
    },
    {
     "data": {
      "application/vnd.jupyter.widget-view+json": {
       "model_id": "",
       "version_major": 2,
       "version_minor": 0
      },
      "text/plain": [
       "FloatProgress(value=0.0, bar_style='info', description='Progress:', layout=Layout(height='25px', width='50%'),…"
      ]
     },
     "metadata": {},
     "output_type": "display_data"
    },
    {
     "name": "stdout",
     "output_type": "stream",
     "text": [
      "+-------+--------+------+---------------+----------------+\n",
      "|user_id|anime_id|rating|watching_status|watched_episodes|\n",
      "+-------+--------+------+---------------+----------------+\n",
      "|      0|      67|     9|              1|               1|\n",
      "|      0|    6702|     7|              1|               4|\n",
      "|      0|     242|    10|              1|               4|\n",
      "|      0|    4898|     0|              1|               1|\n",
      "|      0|      21|    10|              1|               0|\n",
      "|      0|      24|     9|              1|               5|\n",
      "|      0|    2104|     0|              1|               4|\n",
      "|      0|    4722|     8|              1|               4|\n",
      "|      0|    6098|     6|              1|               2|\n",
      "|      0|    3125|     9|              1|              29|\n",
      "|      0|     481|    10|              1|              79|\n",
      "|      0|      68|     6|              2|              23|\n",
      "|      0|    1689|     6|              2|               3|\n",
      "|      0|    2913|     6|              2|              40|\n",
      "|      0|    1250|     7|              2|              26|\n",
      "|      0|     356|     9|              2|              24|\n",
      "|      0|     121|     9|              2|              51|\n",
      "|      0|     430|     9|              2|               1|\n",
      "|      0|    1829|     7|              2|               1|\n",
      "|      0|    1571|    10|              2|              25|\n",
      "+-------+--------+------+---------------+----------------+\n",
      "only showing top 20 rows"
     ]
    }
   ],
   "source": [
    "anime_df.show()"
   ]
  },
  {
   "cell_type": "code",
   "execution_count": 10,
   "id": "86f8dcec-0e74-4428-8ae1-444e42d9dc83",
   "metadata": {
    "execution": {
     "iopub.execute_input": "2023-10-12T08:01:18.058297Z",
     "iopub.status.busy": "2023-10-12T08:01:18.058069Z",
     "iopub.status.idle": "2023-10-12T08:02:19.512930Z",
     "shell.execute_reply": "2023-10-12T08:02:19.512353Z",
     "shell.execute_reply.started": "2023-10-12T08:01:18.058274Z"
    },
    "tags": []
   },
   "outputs": [
    {
     "data": {
      "application/vnd.jupyter.widget-view+json": {
       "model_id": "35b4c2ad3c2f4df39ba58159bb088a6b",
       "version_major": 2,
       "version_minor": 0
      },
      "text/plain": [
       "VBox()"
      ]
     },
     "metadata": {},
     "output_type": "display_data"
    },
    {
     "data": {
      "application/vnd.jupyter.widget-view+json": {
       "model_id": "",
       "version_major": 2,
       "version_minor": 0
      },
      "text/plain": [
       "FloatProgress(value=0.0, bar_style='info', description='Progress:', layout=Layout(height='25px', width='50%'),…"
      ]
     },
     "metadata": {},
     "output_type": "display_data"
    }
   ],
   "source": [
    "anime_df.write.format(\"parquet\").save(deltaPath)"
   ]
  },
  {
   "cell_type": "code",
   "execution_count": 11,
   "id": "ece84810-140c-4918-a3ed-814429777a82",
   "metadata": {
    "execution": {
     "iopub.execute_input": "2023-10-12T08:02:19.514456Z",
     "iopub.status.busy": "2023-10-12T08:02:19.514199Z",
     "iopub.status.idle": "2023-10-12T08:03:37.020201Z",
     "shell.execute_reply": "2023-10-12T08:03:37.019428Z",
     "shell.execute_reply.started": "2023-10-12T08:02:19.514420Z"
    },
    "tags": []
   },
   "outputs": [
    {
     "data": {
      "application/vnd.jupyter.widget-view+json": {
       "model_id": "06d799fdd7ad498da32789e2d9ba1c8b",
       "version_major": 2,
       "version_minor": 0
      },
      "text/plain": [
       "VBox()"
      ]
     },
     "metadata": {},
     "output_type": "display_data"
    },
    {
     "data": {
      "application/vnd.jupyter.widget-view+json": {
       "model_id": "",
       "version_major": 2,
       "version_minor": 0
      },
      "text/plain": [
       "FloatProgress(value=0.0, bar_style='info', description='Progress:', layout=Layout(height='25px', width='50%'),…"
      ]
     },
     "metadata": {},
     "output_type": "display_data"
    }
   ],
   "source": [
    "anime_df.write.format(\"delta\").save(deltaTablePath)"
   ]
  },
  {
   "cell_type": "code",
   "execution_count": null,
   "id": "cc3ae39a-0f0f-4d45-a760-61a1a2b0a684",
   "metadata": {},
   "outputs": [],
   "source": []
  }
 ],
 "metadata": {
  "kernelspec": {
   "display_name": "PySpark",
   "language": "python",
   "name": "pysparkkernel"
  },
  "language_info": {
   "codemirror_mode": {
    "name": "python",
    "version": 3
   },
   "file_extension": ".py",
   "mimetype": "text/x-python",
   "name": "pyspark",
   "pygments_lexer": "python3"
  }
 },
 "nbformat": 4,
 "nbformat_minor": 5
}
